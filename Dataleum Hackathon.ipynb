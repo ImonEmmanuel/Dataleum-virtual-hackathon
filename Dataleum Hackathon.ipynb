{
 "cells": [
  {
   "cell_type": "code",
   "execution_count": 1,
   "metadata": {},
   "outputs": [],
   "source": [
    "import pandas as pd\n",
    "import numpy as np\n",
    "import seaborn as sns\n",
    "import matplotlib.pyplot as plt\n",
    "sns.set()"
   ]
  },
  {
   "cell_type": "code",
   "execution_count": 2,
   "metadata": {},
   "outputs": [],
   "source": [
    "agent=pd.read_csv('Agents.csv')"
   ]
  },
  {
   "cell_type": "code",
   "execution_count": 3,
   "metadata": {},
   "outputs": [
    {
     "data": {
      "text/html": [
       "<div>\n",
       "<style scoped>\n",
       "    .dataframe tbody tr th:only-of-type {\n",
       "        vertical-align: middle;\n",
       "    }\n",
       "\n",
       "    .dataframe tbody tr th {\n",
       "        vertical-align: top;\n",
       "    }\n",
       "\n",
       "    .dataframe thead th {\n",
       "        text-align: right;\n",
       "    }\n",
       "</style>\n",
       "<table border=\"1\" class=\"dataframe\">\n",
       "  <thead>\n",
       "    <tr style=\"text-align: right;\">\n",
       "      <th></th>\n",
       "      <th>PersonID</th>\n",
       "      <th>FullName</th>\n",
       "      <th>CustomerCategoryID</th>\n",
       "      <th>CustomerCategoryName</th>\n",
       "      <th>CustomerID</th>\n",
       "      <th>CustomerName</th>\n",
       "      <th>BuyingGroupID</th>\n",
       "      <th>AccountOpenedDate</th>\n",
       "      <th>CustomerTransactionID</th>\n",
       "      <th>TransactionDate</th>\n",
       "      <th>TransactionAmount</th>\n",
       "      <th>IsFinalized</th>\n",
       "    </tr>\n",
       "  </thead>\n",
       "  <tbody>\n",
       "    <tr>\n",
       "      <td>0</td>\n",
       "      <td>3001</td>\n",
       "      <td>Eric Torres</td>\n",
       "      <td>7</td>\n",
       "      <td>Corporate</td>\n",
       "      <td>801</td>\n",
       "      <td>Eric Torres</td>\n",
       "      <td>100</td>\n",
       "      <td>1/11/2016</td>\n",
       "      <td>3453</td>\n",
       "      <td>11/14/2016</td>\n",
       "      <td>290214.0</td>\n",
       "      <td>1</td>\n",
       "    </tr>\n",
       "    <tr>\n",
       "      <td>1</td>\n",
       "      <td>3001</td>\n",
       "      <td>Eric Torres</td>\n",
       "      <td>7</td>\n",
       "      <td>Corporate</td>\n",
       "      <td>801</td>\n",
       "      <td>Eric Torres</td>\n",
       "      <td>100</td>\n",
       "      <td>1/11/2016</td>\n",
       "      <td>3583</td>\n",
       "      <td>11/15/2016</td>\n",
       "      <td>290214.0</td>\n",
       "      <td>1</td>\n",
       "    </tr>\n",
       "    <tr>\n",
       "      <td>2</td>\n",
       "      <td>3001</td>\n",
       "      <td>Eric Torres</td>\n",
       "      <td>7</td>\n",
       "      <td>Corporate</td>\n",
       "      <td>801</td>\n",
       "      <td>Eric Torres</td>\n",
       "      <td>100</td>\n",
       "      <td>1/11/2016</td>\n",
       "      <td>6561</td>\n",
       "      <td>11/28/2016</td>\n",
       "      <td>349416.0</td>\n",
       "      <td>1</td>\n",
       "    </tr>\n",
       "    <tr>\n",
       "      <td>3</td>\n",
       "      <td>3001</td>\n",
       "      <td>Eric Torres</td>\n",
       "      <td>7</td>\n",
       "      <td>Corporate</td>\n",
       "      <td>801</td>\n",
       "      <td>Eric Torres</td>\n",
       "      <td>100</td>\n",
       "      <td>1/11/2016</td>\n",
       "      <td>6743</td>\n",
       "      <td>11/29/2016</td>\n",
       "      <td>349416.0</td>\n",
       "      <td>1</td>\n",
       "    </tr>\n",
       "  </tbody>\n",
       "</table>\n",
       "</div>"
      ],
      "text/plain": [
       "   PersonID     FullName  CustomerCategoryID CustomerCategoryName  CustomerID  \\\n",
       "0      3001  Eric Torres                   7            Corporate         801   \n",
       "1      3001  Eric Torres                   7            Corporate         801   \n",
       "2      3001  Eric Torres                   7            Corporate         801   \n",
       "3      3001  Eric Torres                   7            Corporate         801   \n",
       "\n",
       "  CustomerName  BuyingGroupID AccountOpenedDate  CustomerTransactionID  \\\n",
       "0  Eric Torres            100         1/11/2016                   3453   \n",
       "1  Eric Torres            100         1/11/2016                   3583   \n",
       "2  Eric Torres            100         1/11/2016                   6561   \n",
       "3  Eric Torres            100         1/11/2016                   6743   \n",
       "\n",
       "  TransactionDate  TransactionAmount  IsFinalized  \n",
       "0      11/14/2016           290214.0            1  \n",
       "1      11/15/2016           290214.0            1  \n",
       "2      11/28/2016           349416.0            1  \n",
       "3      11/29/2016           349416.0            1  "
      ]
     },
     "execution_count": 3,
     "metadata": {},
     "output_type": "execute_result"
    }
   ],
   "source": [
    "agent.head(4)"
   ]
  },
  {
   "cell_type": "code",
   "execution_count": 4,
   "metadata": {},
   "outputs": [
    {
     "data": {
      "text/plain": [
       "(50489, 12)"
      ]
     },
     "execution_count": 4,
     "metadata": {},
     "output_type": "execute_result"
    }
   ],
   "source": [
    "agent.shape"
   ]
  },
  {
   "cell_type": "code",
   "execution_count": 5,
   "metadata": {},
   "outputs": [
    {
     "data": {
      "text/plain": [
       "0"
      ]
     },
     "execution_count": 5,
     "metadata": {},
     "output_type": "execute_result"
    }
   ],
   "source": [
    "#Checked if there is any duplicated columns\n",
    "agent.duplicated().sum()"
   ]
  },
  {
   "cell_type": "code",
   "execution_count": 6,
   "metadata": {},
   "outputs": [
    {
     "name": "stdout",
     "output_type": "stream",
     "text": [
      "<class 'pandas.core.frame.DataFrame'>\n",
      "RangeIndex: 50489 entries, 0 to 50488\n",
      "Data columns (total 12 columns):\n",
      "PersonID                 50489 non-null int64\n",
      "FullName                 50489 non-null object\n",
      "CustomerCategoryID       50489 non-null int64\n",
      "CustomerCategoryName     50489 non-null object\n",
      "CustomerID               50489 non-null int64\n",
      "CustomerName             50489 non-null object\n",
      "BuyingGroupID            50489 non-null int64\n",
      "AccountOpenedDate        50489 non-null object\n",
      "CustomerTransactionID    50489 non-null int64\n",
      "TransactionDate          50489 non-null object\n",
      "TransactionAmount        50489 non-null float64\n",
      "IsFinalized              50489 non-null int64\n",
      "dtypes: float64(1), int64(6), object(5)\n",
      "memory usage: 4.6+ MB\n"
     ]
    }
   ],
   "source": [
    "#Infomation about the dataframe\n",
    "agent.info()"
   ]
  },
  {
   "cell_type": "code",
   "execution_count": 7,
   "metadata": {},
   "outputs": [
    {
     "data": {
      "text/plain": [
       "PersonID                   int64\n",
       "FullName                  object\n",
       "CustomerCategoryID         int64\n",
       "CustomerCategoryName      object\n",
       "CustomerID                 int64\n",
       "CustomerName              object\n",
       "BuyingGroupID              int64\n",
       "AccountOpenedDate         object\n",
       "CustomerTransactionID      int64\n",
       "TransactionDate           object\n",
       "TransactionAmount        float64\n",
       "IsFinalized                int64\n",
       "dtype: object"
      ]
     },
     "execution_count": 7,
     "metadata": {},
     "output_type": "execute_result"
    }
   ],
   "source": [
    "#types of the data in which there are encoded\n",
    "agent.dtypes"
   ]
  },
  {
   "cell_type": "code",
   "execution_count": 8,
   "metadata": {},
   "outputs": [
    {
     "data": {
      "text/html": [
       "<div>\n",
       "<style scoped>\n",
       "    .dataframe tbody tr th:only-of-type {\n",
       "        vertical-align: middle;\n",
       "    }\n",
       "\n",
       "    .dataframe tbody tr th {\n",
       "        vertical-align: top;\n",
       "    }\n",
       "\n",
       "    .dataframe thead th {\n",
       "        text-align: right;\n",
       "    }\n",
       "</style>\n",
       "<table border=\"1\" class=\"dataframe\">\n",
       "  <thead>\n",
       "    <tr style=\"text-align: right;\">\n",
       "      <th></th>\n",
       "      <th>PersonID</th>\n",
       "      <th>CustomerCategoryID</th>\n",
       "      <th>CustomerID</th>\n",
       "      <th>BuyingGroupID</th>\n",
       "      <th>CustomerTransactionID</th>\n",
       "      <th>TransactionAmount</th>\n",
       "      <th>IsFinalized</th>\n",
       "    </tr>\n",
       "  </thead>\n",
       "  <tbody>\n",
       "    <tr>\n",
       "      <td>count</td>\n",
       "      <td>50489.000000</td>\n",
       "      <td>50489.000000</td>\n",
       "      <td>50489.000000</td>\n",
       "      <td>50489.0</td>\n",
       "      <td>50489.000000</td>\n",
       "      <td>5.048900e+04</td>\n",
       "      <td>50489.0</td>\n",
       "    </tr>\n",
       "    <tr>\n",
       "      <td>mean</td>\n",
       "      <td>3118.620630</td>\n",
       "      <td>4.873854</td>\n",
       "      <td>918.620630</td>\n",
       "      <td>100.0</td>\n",
       "      <td>172150.974608</td>\n",
       "      <td>1.000462e+06</td>\n",
       "      <td>1.0</td>\n",
       "    </tr>\n",
       "    <tr>\n",
       "      <td>std</td>\n",
       "      <td>68.969204</td>\n",
       "      <td>1.420722</td>\n",
       "      <td>68.969204</td>\n",
       "      <td>0.0</td>\n",
       "      <td>96635.242896</td>\n",
       "      <td>1.149828e+06</td>\n",
       "      <td>0.0</td>\n",
       "    </tr>\n",
       "    <tr>\n",
       "      <td>min</td>\n",
       "      <td>3001.000000</td>\n",
       "      <td>3.000000</td>\n",
       "      <td>801.000000</td>\n",
       "      <td>100.0</td>\n",
       "      <td>2.000000</td>\n",
       "      <td>3.477600e+03</td>\n",
       "      <td>1.0</td>\n",
       "    </tr>\n",
       "    <tr>\n",
       "      <td>25%</td>\n",
       "      <td>3059.000000</td>\n",
       "      <td>4.000000</td>\n",
       "      <td>859.000000</td>\n",
       "      <td>100.0</td>\n",
       "      <td>89168.000000</td>\n",
       "      <td>2.686032e+05</td>\n",
       "      <td>1.0</td>\n",
       "    </tr>\n",
       "    <tr>\n",
       "      <td>50%</td>\n",
       "      <td>3118.000000</td>\n",
       "      <td>5.000000</td>\n",
       "      <td>918.000000</td>\n",
       "      <td>100.0</td>\n",
       "      <td>174111.000000</td>\n",
       "      <td>6.541200e+05</td>\n",
       "      <td>1.0</td>\n",
       "    </tr>\n",
       "    <tr>\n",
       "      <td>75%</td>\n",
       "      <td>3176.000000</td>\n",
       "      <td>6.000000</td>\n",
       "      <td>976.000000</td>\n",
       "      <td>100.0</td>\n",
       "      <td>255819.000000</td>\n",
       "      <td>1.256814e+06</td>\n",
       "      <td>1.0</td>\n",
       "    </tr>\n",
       "    <tr>\n",
       "      <td>max</td>\n",
       "      <td>3261.000000</td>\n",
       "      <td>7.000000</td>\n",
       "      <td>1061.000000</td>\n",
       "      <td>100.0</td>\n",
       "      <td>335884.000000</td>\n",
       "      <td>1.753331e+07</td>\n",
       "      <td>1.0</td>\n",
       "    </tr>\n",
       "  </tbody>\n",
       "</table>\n",
       "</div>"
      ],
      "text/plain": [
       "           PersonID  CustomerCategoryID    CustomerID  BuyingGroupID  \\\n",
       "count  50489.000000        50489.000000  50489.000000        50489.0   \n",
       "mean    3118.620630            4.873854    918.620630          100.0   \n",
       "std       68.969204            1.420722     68.969204            0.0   \n",
       "min     3001.000000            3.000000    801.000000          100.0   \n",
       "25%     3059.000000            4.000000    859.000000          100.0   \n",
       "50%     3118.000000            5.000000    918.000000          100.0   \n",
       "75%     3176.000000            6.000000    976.000000          100.0   \n",
       "max     3261.000000            7.000000   1061.000000          100.0   \n",
       "\n",
       "       CustomerTransactionID  TransactionAmount  IsFinalized  \n",
       "count           50489.000000       5.048900e+04      50489.0  \n",
       "mean           172150.974608       1.000462e+06          1.0  \n",
       "std             96635.242896       1.149828e+06          0.0  \n",
       "min                 2.000000       3.477600e+03          1.0  \n",
       "25%             89168.000000       2.686032e+05          1.0  \n",
       "50%            174111.000000       6.541200e+05          1.0  \n",
       "75%            255819.000000       1.256814e+06          1.0  \n",
       "max            335884.000000       1.753331e+07          1.0  "
      ]
     },
     "execution_count": 8,
     "metadata": {},
     "output_type": "execute_result"
    }
   ],
   "source": [
    "#Checking statistical values of our dataset\n",
    "agent.describe()"
   ]
  },
  {
   "cell_type": "code",
   "execution_count": 9,
   "metadata": {},
   "outputs": [],
   "source": [
    "#Converting the TransactionDate to datetime\n",
    "agent['TransactionDate']=pd.to_datetime(agent['TransactionDate'])\n",
    "agent['AccountOpenedDate']=pd.to_datetime(agent['AccountOpenedDate'])"
   ]
  },
  {
   "cell_type": "code",
   "execution_count": 10,
   "metadata": {},
   "outputs": [
    {
     "data": {
      "text/plain": [
       "PersonID                          int64\n",
       "FullName                         object\n",
       "CustomerCategoryID                int64\n",
       "CustomerCategoryName             object\n",
       "CustomerID                        int64\n",
       "CustomerName                     object\n",
       "BuyingGroupID                     int64\n",
       "AccountOpenedDate        datetime64[ns]\n",
       "CustomerTransactionID             int64\n",
       "TransactionDate          datetime64[ns]\n",
       "TransactionAmount               float64\n",
       "IsFinalized                       int64\n",
       "dtype: object"
      ]
     },
     "execution_count": 10,
     "metadata": {},
     "output_type": "execute_result"
    }
   ],
   "source": [
    "agent.dtypes"
   ]
  },
  {
   "cell_type": "markdown",
   "metadata": {},
   "source": [
    "## Basic EDA"
   ]
  },
  {
   "cell_type": "code",
   "execution_count": 11,
   "metadata": {},
   "outputs": [],
   "source": [
    "'''\n",
    "Performed a grouby to assigned each Agent to it total amount of transaction done'''\n",
    "agent_groub=agent.groupby(by=agent['FullName'])\n",
    "x=np.round(agent_groub.sum()['TransactionAmount'])\n",
    "agent['total_amount']=agent['FullName'].map(x)"
   ]
  },
  {
   "cell_type": "code",
   "execution_count": 12,
   "metadata": {},
   "outputs": [
    {
     "data": {
      "text/plain": [
       "0"
      ]
     },
     "execution_count": 12,
     "metadata": {},
     "output_type": "execute_result"
    }
   ],
   "source": [
    "#Each Transaction has a unique agent\n",
    "agent.total_amount.nunique() - agent.FullName.nunique()"
   ]
  },
  {
   "cell_type": "code",
   "execution_count": 13,
   "metadata": {},
   "outputs": [
    {
     "data": {
      "text/html": [
       "<div>\n",
       "<style scoped>\n",
       "    .dataframe tbody tr th:only-of-type {\n",
       "        vertical-align: middle;\n",
       "    }\n",
       "\n",
       "    .dataframe tbody tr th {\n",
       "        vertical-align: top;\n",
       "    }\n",
       "\n",
       "    .dataframe thead th {\n",
       "        text-align: right;\n",
       "    }\n",
       "</style>\n",
       "<table border=\"1\" class=\"dataframe\">\n",
       "  <thead>\n",
       "    <tr style=\"text-align: right;\">\n",
       "      <th></th>\n",
       "      <th>PersonID</th>\n",
       "      <th>FullName</th>\n",
       "      <th>CustomerCategoryID</th>\n",
       "      <th>CustomerCategoryName</th>\n",
       "      <th>CustomerID</th>\n",
       "      <th>CustomerName</th>\n",
       "      <th>BuyingGroupID</th>\n",
       "      <th>AccountOpenedDate</th>\n",
       "      <th>CustomerTransactionID</th>\n",
       "      <th>TransactionDate</th>\n",
       "      <th>TransactionAmount</th>\n",
       "      <th>IsFinalized</th>\n",
       "      <th>total_amount</th>\n",
       "    </tr>\n",
       "  </thead>\n",
       "  <tbody>\n",
       "    <tr>\n",
       "      <td>37867</td>\n",
       "      <td>3177</td>\n",
       "      <td>Mauno Laurila</td>\n",
       "      <td>3</td>\n",
       "      <td>Novelty Shop</td>\n",
       "      <td>977</td>\n",
       "      <td>Mauno Laurila</td>\n",
       "      <td>100</td>\n",
       "      <td>2016-01-11</td>\n",
       "      <td>5374</td>\n",
       "      <td>2016-11-22</td>\n",
       "      <td>562874.4</td>\n",
       "      <td>1</td>\n",
       "      <td>299944121.0</td>\n",
       "    </tr>\n",
       "    <tr>\n",
       "      <td>37868</td>\n",
       "      <td>3177</td>\n",
       "      <td>Mauno Laurila</td>\n",
       "      <td>3</td>\n",
       "      <td>Novelty Shop</td>\n",
       "      <td>977</td>\n",
       "      <td>Mauno Laurila</td>\n",
       "      <td>100</td>\n",
       "      <td>2016-01-11</td>\n",
       "      <td>5397</td>\n",
       "      <td>2016-11-23</td>\n",
       "      <td>562874.4</td>\n",
       "      <td>1</td>\n",
       "      <td>299944121.0</td>\n",
       "    </tr>\n",
       "    <tr>\n",
       "      <td>37869</td>\n",
       "      <td>3177</td>\n",
       "      <td>Mauno Laurila</td>\n",
       "      <td>3</td>\n",
       "      <td>Novelty Shop</td>\n",
       "      <td>977</td>\n",
       "      <td>Mauno Laurila</td>\n",
       "      <td>100</td>\n",
       "      <td>2016-01-11</td>\n",
       "      <td>5488</td>\n",
       "      <td>2016-11-23</td>\n",
       "      <td>402490.8</td>\n",
       "      <td>1</td>\n",
       "      <td>299944121.0</td>\n",
       "    </tr>\n",
       "    <tr>\n",
       "      <td>37870</td>\n",
       "      <td>3177</td>\n",
       "      <td>Mauno Laurila</td>\n",
       "      <td>3</td>\n",
       "      <td>Novelty Shop</td>\n",
       "      <td>977</td>\n",
       "      <td>Mauno Laurila</td>\n",
       "      <td>100</td>\n",
       "      <td>2016-01-11</td>\n",
       "      <td>5494</td>\n",
       "      <td>2016-11-23</td>\n",
       "      <td>955098.0</td>\n",
       "      <td>1</td>\n",
       "      <td>299944121.0</td>\n",
       "    </tr>\n",
       "    <tr>\n",
       "      <td>37871</td>\n",
       "      <td>3177</td>\n",
       "      <td>Mauno Laurila</td>\n",
       "      <td>3</td>\n",
       "      <td>Novelty Shop</td>\n",
       "      <td>977</td>\n",
       "      <td>Mauno Laurila</td>\n",
       "      <td>100</td>\n",
       "      <td>2016-01-11</td>\n",
       "      <td>5716</td>\n",
       "      <td>2016-11-24</td>\n",
       "      <td>1357588.8</td>\n",
       "      <td>1</td>\n",
       "      <td>299944121.0</td>\n",
       "    </tr>\n",
       "  </tbody>\n",
       "</table>\n",
       "</div>"
      ],
      "text/plain": [
       "       PersonID       FullName  CustomerCategoryID CustomerCategoryName  \\\n",
       "37867      3177  Mauno Laurila                   3         Novelty Shop   \n",
       "37868      3177  Mauno Laurila                   3         Novelty Shop   \n",
       "37869      3177  Mauno Laurila                   3         Novelty Shop   \n",
       "37870      3177  Mauno Laurila                   3         Novelty Shop   \n",
       "37871      3177  Mauno Laurila                   3         Novelty Shop   \n",
       "\n",
       "       CustomerID   CustomerName  BuyingGroupID AccountOpenedDate  \\\n",
       "37867         977  Mauno Laurila            100        2016-01-11   \n",
       "37868         977  Mauno Laurila            100        2016-01-11   \n",
       "37869         977  Mauno Laurila            100        2016-01-11   \n",
       "37870         977  Mauno Laurila            100        2016-01-11   \n",
       "37871         977  Mauno Laurila            100        2016-01-11   \n",
       "\n",
       "       CustomerTransactionID TransactionDate  TransactionAmount  IsFinalized  \\\n",
       "37867                   5374      2016-11-22           562874.4            1   \n",
       "37868                   5397      2016-11-23           562874.4            1   \n",
       "37869                   5488      2016-11-23           402490.8            1   \n",
       "37870                   5494      2016-11-23           955098.0            1   \n",
       "37871                   5716      2016-11-24          1357588.8            1   \n",
       "\n",
       "       total_amount  \n",
       "37867   299944121.0  \n",
       "37868   299944121.0  \n",
       "37869   299944121.0  \n",
       "37870   299944121.0  \n",
       "37871   299944121.0  "
      ]
     },
     "execution_count": 13,
     "metadata": {},
     "output_type": "execute_result"
    }
   ],
   "source": [
    "\n",
    "agent[agent.total_amount==299944121].head(5)"
   ]
  },
  {
   "cell_type": "code",
   "execution_count": 14,
   "metadata": {},
   "outputs": [
    {
     "data": {
      "image/png": "[encoded data removed]",
      "text/plain": [
       "<Figure size 720x576 with 1 Axes>"
      ]
     },
     "metadata": {
      "needs_background": "light"
     },
     "output_type": "display_data"
    }
   ],
   "source": [
    "agent_top_10=agent.groupby('FullName').sum().sort_values(by='TransactionAmount', ascending=False).head(10)\n",
    "plt.figure(figsize=(10,8))\n",
    "plt.xlabel('Full Name')\n",
    "plt.ylabel('Transaction Amount')\n",
    "plt.xticks(rotation=20)\n",
    "plt.title('Transaction Amount by Agent Since Inception of Company')\n",
    "plt.plot(agent_top_10['TransactionAmount'], color='red', marker='+', linestyle=':')\n",
    "plt.show();"
   ]
  },
  {
   "cell_type": "markdown",
   "metadata": {},
   "source": [
    "## Highest Sale in 2019"
   ]
  },
  {
   "cell_type": "code",
   "execution_count": 15,
   "metadata": {},
   "outputs": [],
   "source": [
    "#create a column for the month column\n",
    "agent['month']=agent['TransactionDate'].dt.month\n",
    "agent['year']=agent['TransactionDate'].dt.year"
   ]
  },
  {
   "cell_type": "code",
   "execution_count": 16,
   "metadata": {},
   "outputs": [],
   "source": [
    "#Looping through the month column to form a new column quarter in the dataset\n",
    "quarter=[]\n",
    "for i in agent['month']:\n",
    "    if i==1 or i==2 or i==3:\n",
    "        quarter.append(1)\n",
    "    elif i==4 or i==5 or i==6:\n",
    "        quarter.append(2)\n",
    "    elif i==7 or i==8 or i==9:\n",
    "        quarter.append(3)\n",
    "    elif i==10 or i==11 or i==12:\n",
    "        quarter.append(4)\n",
    "agent['quarters']=quarter\n",
    "        "
   ]
  },
  {
   "cell_type": "code",
   "execution_count": 17,
   "metadata": {},
   "outputs": [],
   "source": [
    "agent_2019_quarter4=agent[(agent['year']==2019) & (agent['quarters']==4)]"
   ]
  },
  {
   "cell_type": "code",
   "execution_count": 18,
   "metadata": {},
   "outputs": [
    {
     "data": {
      "image/png": "[encoded data removed]",
      "text/plain": [
       "<Figure size 720x576 with 1 Axes>"
      ]
     },
     "metadata": {
      "needs_background": "light"
     },
     "output_type": "display_data"
    }
   ],
   "source": [
    "agent_quarter_top_10=agent_2019_quarter4.groupby('FullName').sum().sort_values(by='TransactionAmount', ascending=False).head(10)\n",
    "plt.figure(figsize=(10,8))\n",
    "plt.xlabel('Full Name')\n",
    "plt.ylabel('Transaction Amount')\n",
    "plt.xticks(rotation=30)\n",
    "plt.title('Transaction For 2019')\n",
    "plt.plot(agent_quarter_top_10['TransactionAmount'],color='green', marker='o', linestyle='dashed')\n",
    "plt.show();"
   ]
  },
  {
   "cell_type": "markdown",
   "metadata": {},
   "source": [
    "## Agent Raj Verma"
   ]
  },
  {
   "cell_type": "code",
   "execution_count": 19,
   "metadata": {},
   "outputs": [
    {
     "name": "stdout",
     "output_type": "stream",
     "text": [
      "Shape of the dataset (102, 16)\n"
     ]
    },
    {
     "data": {
      "text/html": [
       "<div>\n",
       "<style scoped>\n",
       "    .dataframe tbody tr th:only-of-type {\n",
       "        vertical-align: middle;\n",
       "    }\n",
       "\n",
       "    .dataframe tbody tr th {\n",
       "        vertical-align: top;\n",
       "    }\n",
       "\n",
       "    .dataframe thead th {\n",
       "        text-align: right;\n",
       "    }\n",
       "</style>\n",
       "<table border=\"1\" class=\"dataframe\">\n",
       "  <thead>\n",
       "    <tr style=\"text-align: right;\">\n",
       "      <th></th>\n",
       "      <th>PersonID</th>\n",
       "      <th>FullName</th>\n",
       "      <th>CustomerCategoryID</th>\n",
       "      <th>CustomerCategoryName</th>\n",
       "      <th>CustomerID</th>\n",
       "      <th>CustomerName</th>\n",
       "      <th>BuyingGroupID</th>\n",
       "      <th>AccountOpenedDate</th>\n",
       "      <th>CustomerTransactionID</th>\n",
       "      <th>TransactionDate</th>\n",
       "      <th>TransactionAmount</th>\n",
       "      <th>IsFinalized</th>\n",
       "      <th>total_amount</th>\n",
       "      <th>month</th>\n",
       "      <th>year</th>\n",
       "      <th>quarters</th>\n",
       "    </tr>\n",
       "  </thead>\n",
       "  <tbody>\n",
       "    <tr>\n",
       "      <td>49602</td>\n",
       "      <td>3243</td>\n",
       "      <td>Raj Verma</td>\n",
       "      <td>7</td>\n",
       "      <td>Corporate</td>\n",
       "      <td>1043</td>\n",
       "      <td>Raj Verma</td>\n",
       "      <td>100</td>\n",
       "      <td>2018-11-30</td>\n",
       "      <td>197923</td>\n",
       "      <td>2018-12-13</td>\n",
       "      <td>1110762.0</td>\n",
       "      <td>1</td>\n",
       "      <td>100290314.0</td>\n",
       "      <td>12</td>\n",
       "      <td>2018</td>\n",
       "      <td>4</td>\n",
       "    </tr>\n",
       "    <tr>\n",
       "      <td>49603</td>\n",
       "      <td>3243</td>\n",
       "      <td>Raj Verma</td>\n",
       "      <td>7</td>\n",
       "      <td>Corporate</td>\n",
       "      <td>1043</td>\n",
       "      <td>Raj Verma</td>\n",
       "      <td>100</td>\n",
       "      <td>2018-11-30</td>\n",
       "      <td>198312</td>\n",
       "      <td>2018-12-14</td>\n",
       "      <td>1110762.0</td>\n",
       "      <td>1</td>\n",
       "      <td>100290314.0</td>\n",
       "      <td>12</td>\n",
       "      <td>2018</td>\n",
       "      <td>4</td>\n",
       "    </tr>\n",
       "    <tr>\n",
       "      <td>49604</td>\n",
       "      <td>3243</td>\n",
       "      <td>Raj Verma</td>\n",
       "      <td>7</td>\n",
       "      <td>Corporate</td>\n",
       "      <td>1043</td>\n",
       "      <td>Raj Verma</td>\n",
       "      <td>100</td>\n",
       "      <td>2018-11-30</td>\n",
       "      <td>198905</td>\n",
       "      <td>2018-12-17</td>\n",
       "      <td>4441392.0</td>\n",
       "      <td>1</td>\n",
       "      <td>100290314.0</td>\n",
       "      <td>12</td>\n",
       "      <td>2018</td>\n",
       "      <td>4</td>\n",
       "    </tr>\n",
       "    <tr>\n",
       "      <td>49605</td>\n",
       "      <td>3243</td>\n",
       "      <td>Raj Verma</td>\n",
       "      <td>7</td>\n",
       "      <td>Corporate</td>\n",
       "      <td>1043</td>\n",
       "      <td>Raj Verma</td>\n",
       "      <td>100</td>\n",
       "      <td>2018-11-30</td>\n",
       "      <td>199096</td>\n",
       "      <td>2018-12-18</td>\n",
       "      <td>4441392.0</td>\n",
       "      <td>1</td>\n",
       "      <td>100290314.0</td>\n",
       "      <td>12</td>\n",
       "      <td>2018</td>\n",
       "      <td>4</td>\n",
       "    </tr>\n",
       "  </tbody>\n",
       "</table>\n",
       "</div>"
      ],
      "text/plain": [
       "       PersonID   FullName  CustomerCategoryID CustomerCategoryName  \\\n",
       "49602      3243  Raj Verma                   7            Corporate   \n",
       "49603      3243  Raj Verma                   7            Corporate   \n",
       "49604      3243  Raj Verma                   7            Corporate   \n",
       "49605      3243  Raj Verma                   7            Corporate   \n",
       "\n",
       "       CustomerID CustomerName  BuyingGroupID AccountOpenedDate  \\\n",
       "49602        1043    Raj Verma            100        2018-11-30   \n",
       "49603        1043    Raj Verma            100        2018-11-30   \n",
       "49604        1043    Raj Verma            100        2018-11-30   \n",
       "49605        1043    Raj Verma            100        2018-11-30   \n",
       "\n",
       "       CustomerTransactionID TransactionDate  TransactionAmount  IsFinalized  \\\n",
       "49602                 197923      2018-12-13          1110762.0            1   \n",
       "49603                 198312      2018-12-14          1110762.0            1   \n",
       "49604                 198905      2018-12-17          4441392.0            1   \n",
       "49605                 199096      2018-12-18          4441392.0            1   \n",
       "\n",
       "       total_amount  month  year  quarters  \n",
       "49602   100290314.0     12  2018         4  \n",
       "49603   100290314.0     12  2018         4  \n",
       "49604   100290314.0     12  2018         4  \n",
       "49605   100290314.0     12  2018         4  "
      ]
     },
     "execution_count": 19,
     "metadata": {},
     "output_type": "execute_result"
    }
   ],
   "source": [
    "agent_raj_verma=agent[agent['FullName']=='Raj Verma']\n",
    "print('Shape of the dataset',agent_raj_verma.shape)\n",
    "agent_raj_verma.head(4)"
   ]
  },
  {
   "cell_type": "code",
   "execution_count": 20,
   "metadata": {},
   "outputs": [
    {
     "name": "stdout",
     "output_type": "stream",
     "text": [
      "Total Amount of Transaction Carried out by Agent Raj Verma for the First Quater of 2020: 29.63 Million\n"
     ]
    }
   ],
   "source": [
    "agent_sum=agent_raj_verma[agent_raj_verma['year']==2020]['TransactionAmount'].sum()\n",
    "agent_sum=np.round(agent_sum/1000000, decimals=2)\n",
    "print('Total Amount of Transaction Carried out by Agent Raj Verma for the First Quater of 2020:',agent_sum,'Million')"
   ]
  },
  {
   "cell_type": "code",
   "execution_count": 21,
   "metadata": {},
   "outputs": [
    {
     "name": "stdout",
     "output_type": "stream",
     "text": [
      "Transaction for quarter 1 19.67Million\n",
      "Transaction for quarter 2 16.15Million\n",
      "Transaction for quarter 3 15.29Million\n",
      "Transaction for quarter 4 5.38Million\n"
     ]
    }
   ],
   "source": [
    "quarter_1=agent_raj_verma[(agent_raj_verma['year']==2019) &(agent_raj_verma['quarters']==1)]['TransactionAmount'].sum()\n",
    "quarter_2=agent_raj_verma[(agent_raj_verma['year']==2019) &(agent_raj_verma['quarters']==2)]['TransactionAmount'].sum()\n",
    "quarter_3=agent_raj_verma[(agent_raj_verma['year']==2019) &(agent_raj_verma['quarters']==3)]['TransactionAmount'].sum()\n",
    "quarter_4=agent_raj_verma[(agent_raj_verma['year']==2019) &(agent_raj_verma['quarters']==4)]['TransactionAmount'].sum()\n",
    "\n",
    "(quarter_1, quarter_2, quarter_3, quarter_4)=np.round(quarter_1/1000000, decimals=2),np.round(quarter_2/1000000, decimals=2),np.round(quarter_3/1000000, decimals=2),np.round(quarter_4/1000000, decimals=2)\n",
    "\n",
    "print(f'Transaction for quarter 1 {quarter_1}Million')\n",
    "print(f'Transaction for quarter 2 {quarter_2}Million')\n",
    "print(f'Transaction for quarter 3 {quarter_3}Million')\n",
    "print(f'Transaction for quarter 4 {quarter_4}Million')"
   ]
  },
  {
   "cell_type": "code",
   "execution_count": 22,
   "metadata": {},
   "outputs": [],
   "source": [
    "#Created a new dataframe for the quarter columns\n",
    "quarter_data={'Quarter':['Quarter 1', 'Quarter 2', 'Quarter 3', 'Quarter 4'], 'Amount in Million':[19.67, 16.15, 15.29, 5.38]}\n",
    "quarter_data=pd.DataFrame(quarter_data)"
   ]
  },
  {
   "cell_type": "code",
   "execution_count": 23,
   "metadata": {},
   "outputs": [
    {
     "data": {
      "image/png": "[encoded data removed]",
      "text/plain": [
       "<Figure size 432x288 with 1 Axes>"
      ]
     },
     "metadata": {
      "needs_background": "light"
     },
     "output_type": "display_data"
    }
   ],
   "source": [
    "quarter_data.plot(x='Quarter', y='Amount in Million', kind='bar',\n",
    "                  legend=True,title='Transaction by Quarter of Agent Raj Virma');"
   ]
  },
  {
   "cell_type": "code",
   "execution_count": null,
   "metadata": {},
   "outputs": [],
   "source": []
  },
  {
   "cell_type": "code",
   "execution_count": null,
   "metadata": {},
   "outputs": [],
   "source": []
  },
  {
   "cell_type": "markdown",
   "metadata": {},
   "source": [
    "# SUPPLIER EVALUATION"
   ]
  },
  {
   "cell_type": "code",
   "execution_count": 24,
   "metadata": {},
   "outputs": [],
   "source": [
    "supplier=pd.read_csv('DSuppliers.csv')"
   ]
  },
  {
   "cell_type": "code",
   "execution_count": 25,
   "metadata": {},
   "outputs": [
    {
     "data": {
      "text/html": [
       "<div>\n",
       "<style scoped>\n",
       "    .dataframe tbody tr th:only-of-type {\n",
       "        vertical-align: middle;\n",
       "    }\n",
       "\n",
       "    .dataframe tbody tr th {\n",
       "        vertical-align: top;\n",
       "    }\n",
       "\n",
       "    .dataframe thead th {\n",
       "        text-align: right;\n",
       "    }\n",
       "</style>\n",
       "<table border=\"1\" class=\"dataframe\">\n",
       "  <thead>\n",
       "    <tr style=\"text-align: right;\">\n",
       "      <th></th>\n",
       "      <th>SupplierID</th>\n",
       "      <th>SupplierName</th>\n",
       "      <th>SupplierCategoryID</th>\n",
       "      <th>PrimaryContactPersonID</th>\n",
       "      <th>PaymentDays</th>\n",
       "      <th>SupplierTransactionID</th>\n",
       "      <th>PurchaseOrderID</th>\n",
       "      <th>SupplierInvoiceNumber</th>\n",
       "      <th>TransactionAmount</th>\n",
       "      <th>IsFinalized</th>\n",
       "      <th>SupplierCategoryName</th>\n",
       "    </tr>\n",
       "  </thead>\n",
       "  <tbody>\n",
       "    <tr>\n",
       "      <td>0</td>\n",
       "      <td>1</td>\n",
       "      <td>A Datum Corporation</td>\n",
       "      <td>2</td>\n",
       "      <td>21</td>\n",
       "      <td>14</td>\n",
       "      <td>293115</td>\n",
       "      <td>1822</td>\n",
       "      <td>9113</td>\n",
       "      <td>790020.0</td>\n",
       "      <td>1</td>\n",
       "      <td>Novelty Goods Supplier</td>\n",
       "    </tr>\n",
       "    <tr>\n",
       "      <td>1</td>\n",
       "      <td>1</td>\n",
       "      <td>A Datum Corporation</td>\n",
       "      <td>2</td>\n",
       "      <td>21</td>\n",
       "      <td>14</td>\n",
       "      <td>293124</td>\n",
       "      <td>1824</td>\n",
       "      <td>3368</td>\n",
       "      <td>1354320.0</td>\n",
       "      <td>1</td>\n",
       "      <td>Novelty Goods Supplier</td>\n",
       "    </tr>\n",
       "    <tr>\n",
       "      <td>2</td>\n",
       "      <td>1</td>\n",
       "      <td>A Datum Corporation</td>\n",
       "      <td>2</td>\n",
       "      <td>21</td>\n",
       "      <td>14</td>\n",
       "      <td>293548</td>\n",
       "      <td>1825</td>\n",
       "      <td>3148</td>\n",
       "      <td>2708640.0</td>\n",
       "      <td>1</td>\n",
       "      <td>Novelty Goods Supplier</td>\n",
       "    </tr>\n",
       "    <tr>\n",
       "      <td>3</td>\n",
       "      <td>1</td>\n",
       "      <td>A Datum Corporation</td>\n",
       "      <td>2</td>\n",
       "      <td>21</td>\n",
       "      <td>14</td>\n",
       "      <td>293973</td>\n",
       "      <td>1828</td>\n",
       "      <td>4946</td>\n",
       "      <td>1670328.0</td>\n",
       "      <td>1</td>\n",
       "      <td>Novelty Goods Supplier</td>\n",
       "    </tr>\n",
       "  </tbody>\n",
       "</table>\n",
       "</div>"
      ],
      "text/plain": [
       "   SupplierID         SupplierName  SupplierCategoryID  \\\n",
       "0           1  A Datum Corporation                   2   \n",
       "1           1  A Datum Corporation                   2   \n",
       "2           1  A Datum Corporation                   2   \n",
       "3           1  A Datum Corporation                   2   \n",
       "\n",
       "   PrimaryContactPersonID  PaymentDays  SupplierTransactionID  \\\n",
       "0                      21           14                 293115   \n",
       "1                      21           14                 293124   \n",
       "2                      21           14                 293548   \n",
       "3                      21           14                 293973   \n",
       "\n",
       "   PurchaseOrderID  SupplierInvoiceNumber  TransactionAmount  IsFinalized  \\\n",
       "0             1822                   9113           790020.0            1   \n",
       "1             1824                   3368          1354320.0            1   \n",
       "2             1825                   3148          2708640.0            1   \n",
       "3             1828                   4946          1670328.0            1   \n",
       "\n",
       "     SupplierCategoryName  \n",
       "0  Novelty Goods Supplier  \n",
       "1  Novelty Goods Supplier  \n",
       "2  Novelty Goods Supplier  \n",
       "3  Novelty Goods Supplier  "
      ]
     },
     "execution_count": 25,
     "metadata": {},
     "output_type": "execute_result"
    }
   ],
   "source": [
    "supplier.head(4)"
   ]
  },
  {
   "cell_type": "code",
   "execution_count": 26,
   "metadata": {},
   "outputs": [
    {
     "data": {
      "text/plain": [
       "0"
      ]
     },
     "execution_count": 26,
     "metadata": {},
     "output_type": "execute_result"
    }
   ],
   "source": [
    "#Checked if there is any duplicated columns\n",
    "supplier.duplicated().sum()"
   ]
  },
  {
   "cell_type": "code",
   "execution_count": 27,
   "metadata": {},
   "outputs": [
    {
     "data": {
      "text/plain": [
       "(2070, 11)"
      ]
     },
     "execution_count": 27,
     "metadata": {},
     "output_type": "execute_result"
    }
   ],
   "source": [
    "supplier.shape"
   ]
  },
  {
   "cell_type": "code",
   "execution_count": 28,
   "metadata": {},
   "outputs": [
    {
     "name": "stdout",
     "output_type": "stream",
     "text": [
      "<class 'pandas.core.frame.DataFrame'>\n",
      "RangeIndex: 2070 entries, 0 to 2069\n",
      "Data columns (total 11 columns):\n",
      "SupplierID                2070 non-null int64\n",
      "SupplierName              2070 non-null object\n",
      "SupplierCategoryID        2070 non-null int64\n",
      "PrimaryContactPersonID    2070 non-null int64\n",
      "PaymentDays               2070 non-null int64\n",
      "SupplierTransactionID     2070 non-null int64\n",
      "PurchaseOrderID           2070 non-null int64\n",
      "SupplierInvoiceNumber     2070 non-null int64\n",
      "TransactionAmount         2070 non-null float64\n",
      "IsFinalized               2070 non-null int64\n",
      "SupplierCategoryName      2070 non-null object\n",
      "dtypes: float64(1), int64(8), object(2)\n",
      "memory usage: 178.0+ KB\n"
     ]
    }
   ],
   "source": [
    "supplier.info()"
   ]
  },
  {
   "cell_type": "code",
   "execution_count": 29,
   "metadata": {},
   "outputs": [
    {
     "data": {
      "text/plain": [
       "SupplierID                  int64\n",
       "SupplierName               object\n",
       "SupplierCategoryID          int64\n",
       "PrimaryContactPersonID      int64\n",
       "PaymentDays                 int64\n",
       "SupplierTransactionID       int64\n",
       "PurchaseOrderID             int64\n",
       "SupplierInvoiceNumber       int64\n",
       "TransactionAmount         float64\n",
       "IsFinalized                 int64\n",
       "SupplierCategoryName       object\n",
       "dtype: object"
      ]
     },
     "execution_count": 29,
     "metadata": {},
     "output_type": "execute_result"
    }
   ],
   "source": [
    "supplier.dtypes"
   ]
  },
  {
   "cell_type": "code",
   "execution_count": 30,
   "metadata": {},
   "outputs": [
    {
     "data": {
      "text/html": [
       "<div>\n",
       "<style scoped>\n",
       "    .dataframe tbody tr th:only-of-type {\n",
       "        vertical-align: middle;\n",
       "    }\n",
       "\n",
       "    .dataframe tbody tr th {\n",
       "        vertical-align: top;\n",
       "    }\n",
       "\n",
       "    .dataframe thead th {\n",
       "        text-align: right;\n",
       "    }\n",
       "</style>\n",
       "<table border=\"1\" class=\"dataframe\">\n",
       "  <thead>\n",
       "    <tr style=\"text-align: right;\">\n",
       "      <th></th>\n",
       "      <th>SupplierID</th>\n",
       "      <th>SupplierCategoryID</th>\n",
       "      <th>PrimaryContactPersonID</th>\n",
       "      <th>PaymentDays</th>\n",
       "      <th>SupplierTransactionID</th>\n",
       "      <th>PurchaseOrderID</th>\n",
       "      <th>SupplierInvoiceNumber</th>\n",
       "      <th>TransactionAmount</th>\n",
       "      <th>IsFinalized</th>\n",
       "    </tr>\n",
       "  </thead>\n",
       "  <tbody>\n",
       "    <tr>\n",
       "      <td>count</td>\n",
       "      <td>2070.000000</td>\n",
       "      <td>2070.000000</td>\n",
       "      <td>2070.000000</td>\n",
       "      <td>2070.000000</td>\n",
       "      <td>2070.000000</td>\n",
       "      <td>2070.000000</td>\n",
       "      <td>2070.000000</td>\n",
       "      <td>2.070000e+03</td>\n",
       "      <td>2070.0</td>\n",
       "    </tr>\n",
       "    <tr>\n",
       "      <td>mean</td>\n",
       "      <td>5.471014</td>\n",
       "      <td>4.446860</td>\n",
       "      <td>29.942029</td>\n",
       "      <td>29.849758</td>\n",
       "      <td>161965.478744</td>\n",
       "      <td>1035.500000</td>\n",
       "      <td>4872.347826</td>\n",
       "      <td>1.775160e+08</td>\n",
       "      <td>1.0</td>\n",
       "    </tr>\n",
       "    <tr>\n",
       "      <td>std</td>\n",
       "      <td>1.571520</td>\n",
       "      <td>0.571455</td>\n",
       "      <td>3.143041</td>\n",
       "      <td>1.568521</td>\n",
       "      <td>97670.024504</td>\n",
       "      <td>597.701849</td>\n",
       "      <td>2917.324881</td>\n",
       "      <td>1.708550e+08</td>\n",
       "      <td>0.0</td>\n",
       "    </tr>\n",
       "    <tr>\n",
       "      <td>min</td>\n",
       "      <td>1.000000</td>\n",
       "      <td>2.000000</td>\n",
       "      <td>21.000000</td>\n",
       "      <td>7.000000</td>\n",
       "      <td>134.000000</td>\n",
       "      <td>1.000000</td>\n",
       "      <td>4.000000</td>\n",
       "      <td>1.376550e+04</td>\n",
       "      <td>1.0</td>\n",
       "    </tr>\n",
       "    <tr>\n",
       "      <td>25%</td>\n",
       "      <td>4.000000</td>\n",
       "      <td>4.000000</td>\n",
       "      <td>27.000000</td>\n",
       "      <td>30.000000</td>\n",
       "      <td>76456.750000</td>\n",
       "      <td>518.250000</td>\n",
       "      <td>2247.750000</td>\n",
       "      <td>1.820784e+07</td>\n",
       "      <td>1.0</td>\n",
       "    </tr>\n",
       "    <tr>\n",
       "      <td>50%</td>\n",
       "      <td>4.000000</td>\n",
       "      <td>4.000000</td>\n",
       "      <td>27.000000</td>\n",
       "      <td>30.000000</td>\n",
       "      <td>158888.000000</td>\n",
       "      <td>1035.500000</td>\n",
       "      <td>4893.500000</td>\n",
       "      <td>1.423804e+08</td>\n",
       "      <td>1.0</td>\n",
       "    </tr>\n",
       "    <tr>\n",
       "      <td>75%</td>\n",
       "      <td>7.000000</td>\n",
       "      <td>5.000000</td>\n",
       "      <td>33.000000</td>\n",
       "      <td>30.000000</td>\n",
       "      <td>247217.000000</td>\n",
       "      <td>1552.750000</td>\n",
       "      <td>7377.000000</td>\n",
       "      <td>2.652793e+08</td>\n",
       "      <td>1.0</td>\n",
       "    </tr>\n",
       "    <tr>\n",
       "      <td>max</td>\n",
       "      <td>12.000000</td>\n",
       "      <td>5.000000</td>\n",
       "      <td>43.000000</td>\n",
       "      <td>30.000000</td>\n",
       "      <td>335510.000000</td>\n",
       "      <td>2070.000000</td>\n",
       "      <td>9995.000000</td>\n",
       "      <td>6.214943e+08</td>\n",
       "      <td>1.0</td>\n",
       "    </tr>\n",
       "  </tbody>\n",
       "</table>\n",
       "</div>"
      ],
      "text/plain": [
       "        SupplierID  SupplierCategoryID  PrimaryContactPersonID  PaymentDays  \\\n",
       "count  2070.000000         2070.000000             2070.000000  2070.000000   \n",
       "mean      5.471014            4.446860               29.942029    29.849758   \n",
       "std       1.571520            0.571455                3.143041     1.568521   \n",
       "min       1.000000            2.000000               21.000000     7.000000   \n",
       "25%       4.000000            4.000000               27.000000    30.000000   \n",
       "50%       4.000000            4.000000               27.000000    30.000000   \n",
       "75%       7.000000            5.000000               33.000000    30.000000   \n",
       "max      12.000000            5.000000               43.000000    30.000000   \n",
       "\n",
       "       SupplierTransactionID  PurchaseOrderID  SupplierInvoiceNumber  \\\n",
       "count            2070.000000      2070.000000            2070.000000   \n",
       "mean           161965.478744      1035.500000            4872.347826   \n",
       "std             97670.024504       597.701849            2917.324881   \n",
       "min               134.000000         1.000000               4.000000   \n",
       "25%             76456.750000       518.250000            2247.750000   \n",
       "50%            158888.000000      1035.500000            4893.500000   \n",
       "75%            247217.000000      1552.750000            7377.000000   \n",
       "max            335510.000000      2070.000000            9995.000000   \n",
       "\n",
       "       TransactionAmount  IsFinalized  \n",
       "count       2.070000e+03       2070.0  \n",
       "mean        1.775160e+08          1.0  \n",
       "std         1.708550e+08          0.0  \n",
       "min         1.376550e+04          1.0  \n",
       "25%         1.820784e+07          1.0  \n",
       "50%         1.423804e+08          1.0  \n",
       "75%         2.652793e+08          1.0  \n",
       "max         6.214943e+08          1.0  "
      ]
     },
     "execution_count": 30,
     "metadata": {},
     "output_type": "execute_result"
    }
   ],
   "source": [
    "#Checking statistical values of our dataset\n",
    "supplier.describe()"
   ]
  },
  {
   "cell_type": "code",
   "execution_count": 31,
   "metadata": {},
   "outputs": [
    {
     "name": "stdout",
     "output_type": "stream",
     "text": [
      "Number of Suppliers: 7\n"
     ]
    },
    {
     "data": {
      "text/plain": [
       "Fabrikam, Inc.              1053\n",
       "Litware, Inc.                983\n",
       "Graphic Design Institute      13\n",
       "Northwind Electric Cars       10\n",
       "A Datum Corporation            5\n",
       "The Phone Company              5\n",
       "Contoso, Ltd.                  1\n",
       "Name: SupplierName, dtype: int64"
      ]
     },
     "execution_count": 31,
     "metadata": {},
     "output_type": "execute_result"
    }
   ],
   "source": [
    "#Checking for the total number of supplier Name of all products\n",
    "print('Number of Suppliers:',supplier.SupplierName.nunique())\n",
    "supplier.SupplierName.value_counts()"
   ]
  },
  {
   "cell_type": "code",
   "execution_count": 32,
   "metadata": {},
   "outputs": [
    {
     "name": "stdout",
     "output_type": "stream",
     "text": [
      "Number of Unique Products: 4\n"
     ]
    },
    {
     "data": {
      "text/plain": [
       "Clothing Supplier         1053\n",
       "Packaging Supplier         983\n",
       "Novelty Goods Supplier      24\n",
       "Toy Supplier                10\n",
       "Name: SupplierCategoryName, dtype: int64"
      ]
     },
     "execution_count": 32,
     "metadata": {},
     "output_type": "execute_result"
    }
   ],
   "source": [
    "#Checking for the total number of products\n",
    "print('Number of Unique Products:',supplier.SupplierCategoryName.nunique())\n",
    "supplier.SupplierCategoryName.value_counts()"
   ]
  },
  {
   "cell_type": "code",
   "execution_count": 33,
   "metadata": {},
   "outputs": [
    {
     "data": {
      "text/html": [
       "<div>\n",
       "<style scoped>\n",
       "    .dataframe tbody tr th:only-of-type {\n",
       "        vertical-align: middle;\n",
       "    }\n",
       "\n",
       "    .dataframe tbody tr th {\n",
       "        vertical-align: top;\n",
       "    }\n",
       "\n",
       "    .dataframe thead th {\n",
       "        text-align: right;\n",
       "    }\n",
       "</style>\n",
       "<table border=\"1\" class=\"dataframe\">\n",
       "  <thead>\n",
       "    <tr style=\"text-align: right;\">\n",
       "      <th></th>\n",
       "      <th>SupplierID</th>\n",
       "      <th>SupplierCategoryID</th>\n",
       "      <th>PrimaryContactPersonID</th>\n",
       "      <th>PaymentDays</th>\n",
       "      <th>SupplierTransactionID</th>\n",
       "      <th>PurchaseOrderID</th>\n",
       "      <th>SupplierInvoiceNumber</th>\n",
       "      <th>TransactionAmount</th>\n",
       "      <th>IsFinalized</th>\n",
       "    </tr>\n",
       "    <tr>\n",
       "      <th>SupplierName</th>\n",
       "      <th></th>\n",
       "      <th></th>\n",
       "      <th></th>\n",
       "      <th></th>\n",
       "      <th></th>\n",
       "      <th></th>\n",
       "      <th></th>\n",
       "      <th></th>\n",
       "      <th></th>\n",
       "    </tr>\n",
       "  </thead>\n",
       "  <tbody>\n",
       "    <tr>\n",
       "      <td>Fabrikam, Inc.</td>\n",
       "      <td>4212</td>\n",
       "      <td>4212</td>\n",
       "      <td>28431</td>\n",
       "      <td>31590</td>\n",
       "      <td>170231084</td>\n",
       "      <td>1088166</td>\n",
       "      <td>5206658</td>\n",
       "      <td>2.645256e+11</td>\n",
       "      <td>1053</td>\n",
       "    </tr>\n",
       "    <tr>\n",
       "      <td>Litware, Inc.</td>\n",
       "      <td>6881</td>\n",
       "      <td>4915</td>\n",
       "      <td>32439</td>\n",
       "      <td>29490</td>\n",
       "      <td>163508829</td>\n",
       "      <td>1045404</td>\n",
       "      <td>4721280</td>\n",
       "      <td>1.028662e+11</td>\n",
       "      <td>983</td>\n",
       "    </tr>\n",
       "    <tr>\n",
       "      <td>Northwind Electric Cars</td>\n",
       "      <td>100</td>\n",
       "      <td>30</td>\n",
       "      <td>390</td>\n",
       "      <td>300</td>\n",
       "      <td>22888</td>\n",
       "      <td>295</td>\n",
       "      <td>38718</td>\n",
       "      <td>3.263004e+07</td>\n",
       "      <td>10</td>\n",
       "    </tr>\n",
       "    <tr>\n",
       "      <td>The Phone Company</td>\n",
       "      <td>60</td>\n",
       "      <td>10</td>\n",
       "      <td>215</td>\n",
       "      <td>150</td>\n",
       "      <td>5092</td>\n",
       "      <td>88</td>\n",
       "      <td>30779</td>\n",
       "      <td>2.103948e+07</td>\n",
       "      <td>5</td>\n",
       "    </tr>\n",
       "    <tr>\n",
       "      <td>A Datum Corporation</td>\n",
       "      <td>5</td>\n",
       "      <td>10</td>\n",
       "      <td>105</td>\n",
       "      <td>70</td>\n",
       "      <td>1468265</td>\n",
       "      <td>9130</td>\n",
       "      <td>28606</td>\n",
       "      <td>9.909108e+06</td>\n",
       "      <td>5</td>\n",
       "    </tr>\n",
       "    <tr>\n",
       "      <td>Graphic Design Institute</td>\n",
       "      <td>65</td>\n",
       "      <td>26</td>\n",
       "      <td>377</td>\n",
       "      <td>182</td>\n",
       "      <td>32249</td>\n",
       "      <td>401</td>\n",
       "      <td>52429</td>\n",
       "      <td>2.686482e+06</td>\n",
       "      <td>13</td>\n",
       "    </tr>\n",
       "    <tr>\n",
       "      <td>Contoso, Ltd.</td>\n",
       "      <td>2</td>\n",
       "      <td>2</td>\n",
       "      <td>23</td>\n",
       "      <td>7</td>\n",
       "      <td>134</td>\n",
       "      <td>1</td>\n",
       "      <td>7290</td>\n",
       "      <td>1.297908e+05</td>\n",
       "      <td>1</td>\n",
       "    </tr>\n",
       "  </tbody>\n",
       "</table>\n",
       "</div>"
      ],
      "text/plain": [
       "                          SupplierID  SupplierCategoryID  \\\n",
       "SupplierName                                               \n",
       "Fabrikam, Inc.                  4212                4212   \n",
       "Litware, Inc.                   6881                4915   \n",
       "Northwind Electric Cars          100                  30   \n",
       "The Phone Company                 60                  10   \n",
       "A Datum Corporation                5                  10   \n",
       "Graphic Design Institute          65                  26   \n",
       "Contoso, Ltd.                      2                   2   \n",
       "\n",
       "                          PrimaryContactPersonID  PaymentDays  \\\n",
       "SupplierName                                                    \n",
       "Fabrikam, Inc.                             28431        31590   \n",
       "Litware, Inc.                              32439        29490   \n",
       "Northwind Electric Cars                      390          300   \n",
       "The Phone Company                            215          150   \n",
       "A Datum Corporation                          105           70   \n",
       "Graphic Design Institute                     377          182   \n",
       "Contoso, Ltd.                                 23            7   \n",
       "\n",
       "                          SupplierTransactionID  PurchaseOrderID  \\\n",
       "SupplierName                                                       \n",
       "Fabrikam, Inc.                        170231084          1088166   \n",
       "Litware, Inc.                         163508829          1045404   \n",
       "Northwind Electric Cars                   22888              295   \n",
       "The Phone Company                          5092               88   \n",
       "A Datum Corporation                     1468265             9130   \n",
       "Graphic Design Institute                  32249              401   \n",
       "Contoso, Ltd.                               134                1   \n",
       "\n",
       "                          SupplierInvoiceNumber  TransactionAmount  \\\n",
       "SupplierName                                                         \n",
       "Fabrikam, Inc.                          5206658       2.645256e+11   \n",
       "Litware, Inc.                           4721280       1.028662e+11   \n",
       "Northwind Electric Cars                   38718       3.263004e+07   \n",
       "The Phone Company                         30779       2.103948e+07   \n",
       "A Datum Corporation                       28606       9.909108e+06   \n",
       "Graphic Design Institute                  52429       2.686482e+06   \n",
       "Contoso, Ltd.                              7290       1.297908e+05   \n",
       "\n",
       "                          IsFinalized  \n",
       "SupplierName                           \n",
       "Fabrikam, Inc.                   1053  \n",
       "Litware, Inc.                     983  \n",
       "Northwind Electric Cars            10  \n",
       "The Phone Company                   5  \n",
       "A Datum Corporation                 5  \n",
       "Graphic Design Institute           13  \n",
       "Contoso, Ltd.                       1  "
      ]
     },
     "execution_count": 33,
     "metadata": {},
     "output_type": "execute_result"
    }
   ],
   "source": [
    "supplier_name=supplier.groupby('SupplierName').sum().sort_values(by='TransactionAmount', ascending=False)\n",
    "supplier_name"
   ]
  },
  {
   "cell_type": "code",
   "execution_count": 34,
   "metadata": {},
   "outputs": [
    {
     "data": {
      "image/png": "[encoded data removed]",
      "text/plain": [
       "<Figure size 720x576 with 1 Axes>"
      ]
     },
     "metadata": {
      "needs_background": "light"
     },
     "output_type": "display_data"
    }
   ],
   "source": [
    "plt.figure(figsize=(10,8))\n",
    "plt.xlabel('Full Name')\n",
    "plt.ylabel('Transaction Amount')\n",
    "plt.xticks(rotation=30)\n",
    "#plt.legend()\n",
    "plt.title('Transaction Amount of Supplies')\n",
    "plt.plot(supplier_name['TransactionAmount'],color='pink', marker='*', linestyle='dashed')\n",
    "plt.show();"
   ]
  },
  {
   "cell_type": "code",
   "execution_count": 35,
   "metadata": {},
   "outputs": [
    {
     "name": "stdout",
     "output_type": "stream",
     "text": [
      "Total Money Spent on supplies: 367.46 Billion\n"
     ]
    }
   ],
   "source": [
    "total_amt=(supplier.TransactionAmount.sum())/1000000000\n",
    "total_amt=np.round(total_amt, decimals=2)\n",
    "print('Total Money Spent on supplies:',total_amt,'Billion')"
   ]
  },
  {
   "cell_type": "code",
   "execution_count": 36,
   "metadata": {},
   "outputs": [],
   "source": [
    "agent.to_csv('Agents_new.csv')"
   ]
  },
  {
   "cell_type": "code",
   "execution_count": null,
   "metadata": {},
   "outputs": [],
   "source": []
  },
  {
   "cell_type": "markdown",
   "metadata": {},
   "source": [
    "## I hope it is comprehensive Enough "
   ]
  },
  {
   "cell_type": "code",
   "execution_count": null,
   "metadata": {},
   "outputs": [],
   "source": []
  }
 ],
 "metadata": {
  "kernelspec": {
   "display_name": "Python 3",
   "language": "python",
   "name": "python3"
  },
  "language_info": {
   "codemirror_mode": {
    "name": "ipython",
    "version": 3
   },
   "file_extension": ".py",
   "mimetype": "text/x-python",
   "name": "python",
   "nbconvert_exporter": "python",
   "pygments_lexer": "ipython3",
   "version": "3.7.4"
  }
 },
 "nbformat": 4,
 "nbformat_minor": 2
}
